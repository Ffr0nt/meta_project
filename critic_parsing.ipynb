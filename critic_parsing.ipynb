{
 "cells": [
  {
   "cell_type": "code",
   "execution_count": 1,
   "metadata": {
    "collapsed": true,
    "pycharm": {
     "name": "#%%\n"
    }
   },
   "outputs": [],
   "source": [
    "import requests\n",
    "from bs4 import BeautifulSoup as bs\n",
    "# import pandas as pd\n",
    "import json\n",
    "import tqdm\n",
    "from os import mkdir\n",
    "from os.path import join\n",
    "from shutil import rmtree"
   ]
  },
  {
   "cell_type": "markdown",
   "source": [],
   "metadata": {
    "collapsed": false,
    "pycharm": {
     "name": "#%% md\n"
    }
   }
  },
  {
   "cell_type": "code",
   "execution_count": 84,
   "outputs": [],
   "source": [
    "headers = {\n",
    "    'Accept-Encoding': 'gzip, deflate, sdch',\n",
    "    'Accept-Language': 'en-US,en;q=0.8',\n",
    "    'Upgrade-Insecure-Requests': '1',\n",
    "    'User-Agent': 'Mozilla/5.0 (X11; Linux x86_64) AppleWebKit/537.36 (KHTML, like Gecko) Chrome/56.0.2924.87 Safari/537.36',\n",
    "    'Accept': 'text/html,application/xhtml+xml,application/xml;q=0.9,image/webp,*/*;q=0.8',\n",
    "    'Cache-Control': 'max-age=0',\n",
    "    'Connection': 'keep-alive',\n",
    "}\n",
    "META_PREFICS = \"https://www.metacritic.com\"\n",
    "USER_POSTFICS = \"/user-reviews\"\n",
    "CRITIC_POSTFICS = \"/critic-reviews\"\n",
    "\n",
    "save_path =\"/Users/fedor/Desktop/meta_project/data/metacritic/critic_review/\"\n",
    "strange_game_list = []"
   ],
   "metadata": {
    "collapsed": false,
    "pycharm": {
     "name": "#%%\n"
    }
   }
  },
  {
   "cell_type": "code",
   "execution_count": 105,
   "outputs": [],
   "source": [
    "\n",
    "def parse_critic_page(URL:str,\n",
    "                       local_save_path:str,\n",
    "                       json_save:bool = False):\n",
    "\n",
    "    r = requests.get(URL, headers=headers)\n",
    "    soup = bs(r.text, \"html.parser\")\n",
    "\n",
    "    if soup.find(class_=\"body product_reviews\") is not None:\n",
    "        base = soup.find(class_=\"body product_reviews\")\n",
    "    else:\n",
    "        strange_game_list.append(URL)\n",
    "        return\n",
    "\n",
    "    titels = base.find_all(class_=\"review_content\")\n",
    "    rewiev_count = 0\n",
    "    for t in titels:\n",
    "\n",
    "        name = t.find(class_=\"source\").text\n",
    "        ref =  t.find(class_=\"external\")\n",
    "\n",
    "        if ref is not None:\n",
    "            ref = ref['href']\n",
    "        else:\n",
    "            ref = None\n",
    "\n",
    "        score = t.find(class_=\"review_grade\").div.text\n",
    "        date = t.find(class_=\"date\")\n",
    "\n",
    "        if date is not None:\n",
    "            date = date.text\n",
    "        else:\n",
    "            date = None\n",
    "\n",
    "        text = t.find(class_=\"review_body\").text\n",
    "\n",
    "        if json_save:\n",
    "            with open( local_save_path +f\"/review_{rewiev_count}.json\", 'w') as f:\n",
    "                json.dump({ \"name\": name, \"ref\": ref, \"score\": score,\n",
    "                            \"date\":date, \"text\":text}, f)\n",
    "        else:\n",
    "            return { \"name\": name, \"ref\": ref, \"score\": score, \"date\":date, \"text\":text}\n",
    "        rewiev_count +=1\n"
   ],
   "metadata": {
    "collapsed": false,
    "pycharm": {
     "name": "#%%\n"
    }
   }
  },
  {
   "cell_type": "code",
   "execution_count": 86,
   "outputs": [],
   "source": [
    "games_name_changed = []\n",
    "with open('/Users/fedor/Desktop/meta_project/data/metacritic/url/critic_refs/final_critic_refs.json') as f:\n",
    "    critic_ref = json.load(f)"
   ],
   "metadata": {
    "collapsed": false,
    "pycharm": {
     "name": "#%%\n"
    }
   }
  },
  {
   "cell_type": "code",
   "execution_count": 106,
   "outputs": [],
   "source": [
    "strange_game_list = []"
   ],
   "metadata": {
    "collapsed": false,
    "pycharm": {
     "name": "#%%\n"
    }
   }
  },
  {
   "cell_type": "code",
   "execution_count": 132,
   "outputs": [],
   "source": [
    "actual_start_pos = 5005+1129+4095+746"
   ],
   "metadata": {
    "collapsed": false,
    "pycharm": {
     "name": "#%%\n"
    }
   }
  },
  {
   "cell_type": "code",
   "execution_count": 134,
   "outputs": [
    {
     "name": "stderr",
     "output_type": "stream",
     "text": [
      "100%|██████████| 1952/1952 [59:30<00:00,  1.83s/it] \n"
     ]
    }
   ],
   "source": [
    "loc_path = save_path\n",
    "for game_name in tqdm.tqdm(list(critic_ref.keys())[actual_start_pos : ]):\n",
    "    safe_game_name = game_name.replace(\"/\",\"_\")\n",
    "\n",
    "    if safe_game_name != game_name:\n",
    "        games_name_changed.append(game_name)\n",
    "\n",
    "    try:\n",
    "        mkdir( loc_path + safe_game_name )\n",
    "    except FileExistsError:\n",
    "        rmtree(join(loc_path + safe_game_name))\n",
    "        mkdir(loc_path + safe_game_name)\n",
    "\n",
    "\n",
    "    for platform in critic_ref[game_name]:\n",
    "        if platform == \"iPhone/iPad\":\n",
    "            safe_platform = \"iPhone_iPad\"\n",
    "        else:\n",
    "            safe_platform = platform\n",
    "\n",
    "        mkdir(loc_path+safe_game_name+\"/\"+safe_platform)\n",
    "\n",
    "        game_link = critic_ref[game_name][platform]\n",
    "        parse_critic_page(game_link\n",
    "                          ,loc_path + safe_game_name + \"/\" + safe_platform\n",
    "                          , True)\n",
    "\n"
   ],
   "metadata": {
    "collapsed": false,
    "pycharm": {
     "name": "#%%\n"
    }
   }
  },
  {
   "cell_type": "markdown",
   "source": [
    "## Аналитика полученных результатов"
   ],
   "metadata": {
    "collapsed": false,
    "pycharm": {
     "name": "#%% md\n"
    }
   }
  },
  {
   "cell_type": "code",
   "execution_count": null,
   "outputs": [],
   "source": [
    "critic_names = {}"
   ],
   "metadata": {
    "collapsed": false,
    "pycharm": {
     "name": "#%%\n"
    }
   }
  },
  {
   "cell_type": "markdown",
   "source": [
    "получение списка отзывов на игрв от популярных издательств"
   ],
   "metadata": {
    "collapsed": false,
    "pycharm": {
     "name": "#%% md\n"
    }
   }
  },
  {
   "cell_type": "code",
   "execution_count": 223,
   "outputs": [
    {
     "name": "stderr",
     "output_type": "stream",
     "text": [
      "12899it [03:27, 62.09it/s]\n"
     ]
    }
   ],
   "source": [
    "from pathlib import Path\n",
    "names_game_dict = {}\n",
    "\n",
    "# assign directory\n",
    "directory = \"/Users/fedor/Desktop/meta_project/data/metacritic/critic_review\"\n",
    "\n",
    "# iterate over files in\n",
    "# that directory\n",
    "names = Path(directory).glob('*')\n",
    "for n in tqdm.tqdm(names):\n",
    "    rev = Path(n).glob('*')\n",
    "    for r in rev:\n",
    "        r = Path(r).glob('*')\n",
    "        for _ in r:\n",
    "            with open(_) as f:\n",
    "                templates = json.load(f)\n",
    "                name = templates[\"name\"]\n",
    "                if name in critic_names_list[:35]:\n",
    "                    if name in names_game_dict.keys():\n",
    "                        names_game_dict[name].append(str(n).split(\"/\")[-1])\n",
    "                    else:\n",
    "                        names_game_dict[name] = [str(n).split(\"/\")[-1]]\n",
    "\n"
   ],
   "metadata": {
    "collapsed": false,
    "pycharm": {
     "name": "#%%\n"
    }
   }
  },
  {
   "cell_type": "markdown",
   "source": [
    "ранжирование игр по популярности"
   ],
   "metadata": {
    "collapsed": false,
    "pycharm": {
     "name": "#%% md\n"
    }
   }
  },
  {
   "cell_type": "code",
   "execution_count": 181,
   "outputs": [],
   "source": [
    "critic_names_list = list(critic_names.keys())"
   ],
   "metadata": {
    "collapsed": false,
    "pycharm": {
     "name": "#%%\n"
    }
   }
  },
  {
   "cell_type": "code",
   "execution_count": 186,
   "outputs": [],
   "source": [
    "critic_names_list.sort(key = lambda x:critic_names[x], reverse=True)"
   ],
   "metadata": {
    "collapsed": false,
    "pycharm": {
     "name": "#%%\n"
    }
   }
  },
  {
   "cell_type": "code",
   "execution_count": 241,
   "outputs": [
    {
     "name": "stdout",
     "output_type": "stream",
     "text": [
      "IGN 12106\n",
      "GameSpot 10849\n",
      "Game Informer 6817\n",
      "Multiplayer.it 5622\n",
      "Worth Playing 5617\n",
      "Gaming Age 5599\n",
      "Cheat Code Central 5579\n",
      "Vandal 5447\n",
      "GameZone 5274\n",
      "Game Revolution 4854\n",
      "Everyeye.it 4643\n",
      "SpazioGames 4299\n",
      "Eurogamer 4210\n",
      "GameSpy 4150\n",
      "ZTGD 4145\n",
      "Eurogamer Italy 4097\n",
      "Destructoid 4089\n",
      "GamingTrend 4056\n",
      "3DJuegos 3904\n",
      "GamePro 3788\n",
      "COGconnected 3706\n",
      "Metro GameCentral 3593\n",
      "Games Master UK 3550\n",
      "GamesRadar+ 3543\n",
      "Hardcore Gamer 3462\n",
      "4Players.de 3432\n",
      "God is a Geek 3426\n",
      "Gaming Nexus 3418\n",
      "DarkStation 3393\n",
      "Meristation 3312\n",
      "GameCritics 3300\n",
      "1UP 3286\n",
      "Edge Magazine 3250\n",
      "NintendoWorldReport 3233\n",
      "PC Gamer 3232\n"
     ]
    }
   ],
   "source": [
    "for c in  critic_names_list[:35]:\n",
    "    print(c, critic_names[c])\n"
   ],
   "metadata": {
    "collapsed": false,
    "pycharm": {
     "name": "#%%\n"
    }
   }
  },
  {
   "cell_type": "code",
   "execution_count": 227,
   "outputs": [
    {
     "name": "stdout",
     "output_type": "stream",
     "text": [
      "IGN 12106\n",
      "GameSpot 10849\n",
      "Game Informer 6817\n",
      "Multiplayer.it 5622\n",
      "Worth Playing 5617\n",
      "Gaming Age 5599\n",
      "Cheat Code Central 5579\n",
      "Vandal 5447\n",
      "GameZone 5274\n",
      "Game Revolution 4854\n",
      "Everyeye.it 4643\n",
      "SpazioGames 4299\n",
      "Eurogamer 4210\n",
      "GameSpy 4150\n",
      "ZTGD 4145\n",
      "Eurogamer Italy 4097\n",
      "Destructoid 4089\n",
      "GamingTrend 4056\n",
      "3DJuegos 3904\n",
      "GamePro 3788\n"
     ]
    }
   ],
   "source": [
    "for c in  critic_names_list[:20]:\n",
    "    print(c, critic_names[c])"
   ],
   "metadata": {
    "collapsed": false,
    "pycharm": {
     "name": "#%%\n"
    }
   }
  },
  {
   "cell_type": "markdown",
   "source": [
    "покрытие раличных тайтлов игр при рассмотрении критики различного количества игровых издательств"
   ],
   "metadata": {
    "collapsed": false,
    "pycharm": {
     "name": "#%% md\n"
    }
   }
  },
  {
   "cell_type": "code",
   "execution_count": 238,
   "outputs": [
    {
     "name": "stdout",
     "output_type": "stream",
     "text": [
      "5 - 11243\n",
      "10 - 11962\n",
      "15 - 12317\n",
      "20 - 12535\n",
      "25 - 12678\n",
      "30 - 12783\n",
      "35 - 12827\n",
      "40 - 12827\n",
      "45 - 12827\n"
     ]
    }
   ],
   "source": [
    "total_games_cover = set()\n",
    "for i in range(5,50,5):\n",
    "    for n in names_game_dict:\n",
    "        if n in critic_names_list[:i]:\n",
    "            for g in names_game_dict[n]:\n",
    "                total_games_cover.add(g)\n",
    "    print(i,\"-\",len(total_games_cover))"
   ],
   "metadata": {
    "collapsed": false,
    "pycharm": {
     "name": "#%%\n"
    }
   }
  },
  {
   "cell_type": "markdown",
   "source": [
    "общее количество отзывов при рассмотрении критики различного количества игровых издательств"
   ],
   "metadata": {
    "collapsed": false,
    "pycharm": {
     "name": "#%% md\n"
    }
   }
  },
  {
   "cell_type": "code",
   "execution_count": 239,
   "outputs": [
    {
     "name": "stdout",
     "output_type": "stream",
     "text": [
      "5 - 41011\n",
      "10 - 67764\n",
      "15 - 89211\n",
      "20 - 109145\n",
      "25 - 126999\n",
      "30 - 143980\n",
      "35 - 160281\n",
      "40 - 175736\n",
      "45 - 190227\n"
     ]
    }
   ],
   "source": [
    "hist = []\n",
    "sum_hist = []\n",
    "for i in range(5,50,5):\n",
    "    sum = 0\n",
    "    for c in  critic_names_list[:i]:\n",
    "        sum += critic_names[c]\n",
    "    print(i, '-',sum)"
   ],
   "metadata": {
    "collapsed": false,
    "pycharm": {
     "name": "#%%\n"
    }
   }
  },
  {
   "cell_type": "code",
   "execution_count": 240,
   "outputs": [
    {
     "data": {
      "text/plain": "['IGN',\n 'GameSpot',\n 'Game Informer',\n 'Multiplayer.it',\n 'Worth Playing',\n 'Gaming Age',\n 'Cheat Code Central',\n 'Vandal',\n 'GameZone',\n 'Game Revolution',\n 'Everyeye.it',\n 'SpazioGames',\n 'Eurogamer',\n 'GameSpy',\n 'ZTGD',\n 'Eurogamer Italy',\n 'Destructoid',\n 'GamingTrend',\n '3DJuegos',\n 'GamePro',\n 'COGconnected',\n 'Metro GameCentral',\n 'Games Master UK',\n 'GamesRadar+',\n 'Hardcore Gamer',\n '4Players.de',\n 'God is a Geek',\n 'Gaming Nexus',\n 'DarkStation',\n 'Meristation',\n 'GameCritics',\n '1UP',\n 'Edge Magazine',\n 'NintendoWorldReport',\n 'PC Gamer']"
     },
     "execution_count": 240,
     "metadata": {},
     "output_type": "execute_result"
    }
   ],
   "source": [
    "critic_names_list[:35]"
   ],
   "metadata": {
    "collapsed": false,
    "pycharm": {
     "name": "#%%\n"
    }
   }
  },
  {
   "cell_type": "code",
   "execution_count": null,
   "outputs": [],
   "source": [],
   "metadata": {
    "collapsed": false,
    "pycharm": {
     "name": "#%%\n"
    }
   }
  }
 ],
 "metadata": {
  "kernelspec": {
   "display_name": "Python 3",
   "language": "python",
   "name": "python3"
  },
  "language_info": {
   "codemirror_mode": {
    "name": "ipython",
    "version": 2
   },
   "file_extension": ".py",
   "mimetype": "text/x-python",
   "name": "python",
   "nbconvert_exporter": "python",
   "pygments_lexer": "ipython2",
   "version": "2.7.6"
  }
 },
 "nbformat": 4,
 "nbformat_minor": 0
}