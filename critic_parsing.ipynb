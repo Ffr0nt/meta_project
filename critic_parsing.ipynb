{
 "cells": [
  {
   "cell_type": "code",
   "execution_count": 1,
   "metadata": {
    "collapsed": true,
    "pycharm": {
     "name": "#%%\n"
    }
   },
   "outputs": [],
   "source": [
    "import requests\n",
    "from bs4 import BeautifulSoup as bs\n",
    "# import pandas as pd\n",
    "import json\n",
    "import tqdm\n",
    "from os import mkdir\n",
    "from os.path import join\n",
    "from shutil import rmtree"
   ]
  },
  {
   "cell_type": "markdown",
   "source": [],
   "metadata": {
    "collapsed": false,
    "pycharm": {
     "name": "#%% md\n"
    }
   }
  },
  {
   "cell_type": "code",
   "execution_count": 84,
   "outputs": [],
   "source": [
    "headers = {\n",
    "    'Accept-Encoding': 'gzip, deflate, sdch',\n",
    "    'Accept-Language': 'en-US,en;q=0.8',\n",
    "    'Upgrade-Insecure-Requests': '1',\n",
    "    'User-Agent': 'Mozilla/5.0 (X11; Linux x86_64) AppleWebKit/537.36 (KHTML, like Gecko) Chrome/56.0.2924.87 Safari/537.36',\n",
    "    'Accept': 'text/html,application/xhtml+xml,application/xml;q=0.9,image/webp,*/*;q=0.8',\n",
    "    'Cache-Control': 'max-age=0',\n",
    "    'Connection': 'keep-alive',\n",
    "}\n",
    "META_PREFICS = \"https://www.metacritic.com\"\n",
    "USER_POSTFICS = \"/user-reviews\"\n",
    "CRITIC_POSTFICS = \"/critic-reviews\"\n",
    "\n",
    "save_path =\"/Users/fedor/Desktop/meta_project/data/metacritic/critic_review/\"\n",
    "strange_game_list = []"
   ],
   "metadata": {
    "collapsed": false,
    "pycharm": {
     "name": "#%%\n"
    }
   }
  },
  {
   "cell_type": "code",
   "execution_count": 105,
   "outputs": [],
   "source": [
    "\n",
    "def parse_critic_page(URL:str,\n",
    "                       local_save_path:str,\n",
    "                       json_save:bool = False):\n",
    "\n",
    "    r = requests.get(URL, headers=headers)\n",
    "    soup = bs(r.text, \"html.parser\")\n",
    "\n",
    "    if soup.find(class_=\"body product_reviews\") is not None:\n",
    "        base = soup.find(class_=\"body product_reviews\")\n",
    "    else:\n",
    "        strange_game_list.append(URL)\n",
    "        return\n",
    "\n",
    "    titels = base.find_all(class_=\"review_content\")\n",
    "    rewiev_count = 0\n",
    "    for t in titels:\n",
    "\n",
    "        name = t.find(class_=\"source\").text\n",
    "        ref =  t.find(class_=\"external\")\n",
    "\n",
    "        if ref is not None:\n",
    "            ref = ref['href']\n",
    "        else:\n",
    "            ref = None\n",
    "\n",
    "        score = t.find(class_=\"review_grade\").div.text\n",
    "        date = t.find(class_=\"date\")\n",
    "\n",
    "        if date is not None:\n",
    "            date = date.text\n",
    "        else:\n",
    "            date = None\n",
    "\n",
    "        text = t.find(class_=\"review_body\").text\n",
    "\n",
    "        if json_save:\n",
    "            with open( local_save_path +f\"/review_{rewiev_count}.json\", 'w') as f:\n",
    "                json.dump({ \"name\": name, \"ref\": ref, \"score\": score,\n",
    "                            \"date\":date, \"text\":text}, f)\n",
    "        else:\n",
    "            return { \"name\": name, \"ref\": ref, \"score\": score, \"date\":date, \"text\":text}\n",
    "        rewiev_count +=1\n"
   ],
   "metadata": {
    "collapsed": false,
    "pycharm": {
     "name": "#%%\n"
    }
   }
  },
  {
   "cell_type": "code",
   "execution_count": 86,
   "outputs": [],
   "source": [
    "games_name_changed = []\n",
    "with open('/Users/fedor/Desktop/meta_project/data/metacritic/url/critic_refs/final_critic_refs.json') as f:\n",
    "    critic_ref = json.load(f)"
   ],
   "metadata": {
    "collapsed": false,
    "pycharm": {
     "name": "#%%\n"
    }
   }
  },
  {
   "cell_type": "code",
   "execution_count": 106,
   "outputs": [],
   "source": [
    "strange_game_list = []"
   ],
   "metadata": {
    "collapsed": false,
    "pycharm": {
     "name": "#%%\n"
    }
   }
  },
  {
   "cell_type": "code",
   "execution_count": 132,
   "outputs": [],
   "source": [
    "actual_start_pos = 5005+1129+4095+746"
   ],
   "metadata": {
    "collapsed": false,
    "pycharm": {
     "name": "#%%\n"
    }
   }
  },
  {
   "cell_type": "code",
   "execution_count": 134,
   "outputs": [
    {
     "name": "stderr",
     "output_type": "stream",
     "text": [
      "100%|██████████| 1952/1952 [59:30<00:00,  1.83s/it] \n"
     ]
    }
   ],
   "source": [
    "loc_path = save_path\n",
    "for game_name in tqdm.tqdm(list(critic_ref.keys())[actual_start_pos : ]):\n",
    "    safe_game_name = game_name.replace(\"/\",\"_\")\n",
    "\n",
    "    if safe_game_name != game_name:\n",
    "        games_name_changed.append(game_name)\n",
    "\n",
    "    try:\n",
    "        mkdir( loc_path + safe_game_name )\n",
    "    except FileExistsError:\n",
    "        rmtree(join(loc_path + safe_game_name))\n",
    "        mkdir(loc_path + safe_game_name)\n",
    "\n",
    "\n",
    "    for platform in critic_ref[game_name]:\n",
    "        if platform == \"iPhone/iPad\":\n",
    "            safe_platform = \"iPhone_iPad\"\n",
    "        else:\n",
    "            safe_platform = platform\n",
    "\n",
    "        mkdir(loc_path+safe_game_name+\"/\"+safe_platform)\n",
    "\n",
    "        game_link = critic_ref[game_name][platform]\n",
    "        parse_critic_page(game_link\n",
    "                          ,loc_path + safe_game_name + \"/\" + safe_platform\n",
    "                          , True)\n",
    "\n"
   ],
   "metadata": {
    "collapsed": false,
    "pycharm": {
     "name": "#%%\n"
    }
   }
  },
  {
   "cell_type": "code",
   "execution_count": 155,
   "outputs": [
    {
     "data": {
      "text/plain": "['https://www.metacritic.com/game/3ds/3d-fantasy-zone-ii-w/critic-reviews',\n 'https://www.metacritic.com/game/3ds/3d-fantasy-zone-ii-w/critic-reviews',\n 'https://www.metacritic.com//game/switch/the-longing/critic-reviews',\n 'https://www.metacritic.com//game/pc/xianjian-qixia-zhuan-7/critic-reviews',\n 'https://www.metacritic.com/game/playstation-2/pinball-hall-of-fame-the-gottlieb-collection/critic-reviews',\n 'https://www.metacritic.com/game/pc/el-shaddai-ascension-of-the-metatron/critic-reviews',\n 'https://www.metacritic.com/game/xbox-one/voodoo-vince-remastered/critic-reviews',\n 'https://www.metacritic.com//game/playstation-2/pinball-hall-of-fame-the-gottlieb-collection/critic-reviews',\n 'https://www.metacritic.com/game/gamecube/nfl-quarterback-club-2002/critic-reviews',\n 'https://www.metacritic.com//game/playstation-2/nfl-quarterback-club-2002/critic-reviews',\n 'https://www.metacritic.com/game/playstation/star-wars-demolition/critic-reviews',\n 'https://www.metacritic.com//game/playstation-4/star-wars-demolition/critic-reviews',\n 'https://www.metacritic.com//game/playstation-5/star-wars-demolition/critic-reviews',\n 'https://www.metacritic.com/game/playstation-vita/uncharted-fight-for-fortune/critic-reviews',\n 'https://www.metacritic.com/game/wii/one-piece-unlimited-adventure/critic-reviews',\n 'https://www.metacritic.com//game/pc/mxgp3-the-official-motocross-videogame/critic-reviews',\n 'https://www.metacritic.com/game/pc/memento-mori-2/critic-reviews',\n 'https://www.metacritic.com//game/switch/colossal-cave/critic-reviews',\n 'https://www.metacritic.com//game/playstation-4/hover/critic-reviews',\n 'https://www.metacritic.com/game/pc/nightcry/critic-reviews']"
     },
     "execution_count": 155,
     "metadata": {},
     "output_type": "execute_result"
    }
   ],
   "source": [
    "strange_game_list"
   ],
   "metadata": {
    "collapsed": false,
    "pycharm": {
     "name": "#%%\n"
    }
   }
  },
  {
   "cell_type": "code",
   "execution_count": 149,
   "outputs": [
    {
     "data": {
      "text/plain": "(12899, 470656, 207224215)"
     },
     "execution_count": 149,
     "metadata": {},
     "output_type": "execute_result"
    }
   ],
   "source": [
    "from pathlib import Path\n",
    "from os.path import getsize\n",
    "game_count = 0\n",
    "r_count = 0\n",
    "bytes_size = 0\n",
    "\n",
    "# assign directory\n",
    "directory = \"/Users/fedor/Desktop/meta_project/data/metacritic/critic_review\"\n",
    "\n",
    "# iterate over files in\n",
    "# that directory\n",
    "names = Path(directory).glob('*')\n",
    "for n in names:\n",
    "    rev = Path(n).glob('*')\n",
    "    game_count += 1\n",
    "    for r in rev:\n",
    "        r = Path(r).glob('*')\n",
    "        for _ in r:\n",
    "            r_count += 1\n",
    "            bytes_size += getsize(_)\n",
    "\n",
    "game_count, r_count, bytes_size\n"
   ],
   "metadata": {
    "collapsed": false,
    "pycharm": {
     "name": "#%%\n"
    }
   }
  },
  {
   "cell_type": "code",
   "execution_count": 154,
   "outputs": [
    {
     "data": {
      "text/plain": "0.19299258943647146"
     },
     "execution_count": 154,
     "metadata": {},
     "output_type": "execute_result"
    }
   ],
   "source": [
    "bytes_size / (1024**3)"
   ],
   "metadata": {
    "collapsed": false,
    "pycharm": {
     "name": "#%%\n"
    }
   }
  },
  {
   "cell_type": "code",
   "execution_count": null,
   "outputs": [],
   "source": [],
   "metadata": {
    "collapsed": false,
    "pycharm": {
     "name": "#%%\n"
    }
   }
  }
 ],
 "metadata": {
  "kernelspec": {
   "display_name": "Python 3",
   "language": "python",
   "name": "python3"
  },
  "language_info": {
   "codemirror_mode": {
    "name": "ipython",
    "version": 2
   },
   "file_extension": ".py",
   "mimetype": "text/x-python",
   "name": "python",
   "nbconvert_exporter": "python",
   "pygments_lexer": "ipython2",
   "version": "2.7.6"
  }
 },
 "nbformat": 4,
 "nbformat_minor": 0
}